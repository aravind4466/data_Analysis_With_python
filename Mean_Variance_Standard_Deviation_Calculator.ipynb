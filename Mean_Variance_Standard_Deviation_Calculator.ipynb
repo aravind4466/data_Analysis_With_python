{
  "nbformat": 4,
  "nbformat_minor": 0,
  "metadata": {
    "colab": {
      "provenance": []
    },
    "kernelspec": {
      "name": "python3",
      "display_name": "Python 3"
    },
    "language_info": {
      "name": "python"
    }
  },
  "cells": [
    {
      "cell_type": "code",
      "execution_count": 1,
      "metadata": {
        "colab": {
          "base_uri": "https://localhost:8080/"
        },
        "id": "ldlIWXK0IKn-",
        "outputId": "9eeaa3ac-45ca-4510-e52a-f8996dacbd0d"
      },
      "outputs": [
        {
          "output_type": "stream",
          "name": "stdout",
          "text": [
            "Writing mean_var_std.py\n"
          ]
        }
      ],
      "source": [
        "%%writefile mean_var_std.py\n",
        "import numpy as np\n"
      ]
    },
    {
      "cell_type": "code",
      "source": [
        "def calculate(s):\n",
        "    if len(s) != 9:\n",
        "        raise ValueError(\"List must contain nine numbers.\")\n"
      ],
      "metadata": {
        "id": "5JhPWUVGILfJ"
      },
      "execution_count": 2,
      "outputs": []
    },
    {
      "cell_type": "code",
      "source": [
        "    # Manually constructing the 3x3 matrix\n",
        "    matrix = np.array([\n",
        "        [s[0], s[1], s[2]],\n",
        "        [s[3], s[4], s[5]],\n",
        "        [s[6], s[7], s[8]]\n",
        "    ])\n"
      ],
      "metadata": {
        "colab": {
          "base_uri": "https://localhost:8080/",
          "height": 211
        },
        "id": "2ZVfqlN4ISsG",
        "outputId": "4d27034d-5265-4b41-dea8-0e7e93d89292"
      },
      "execution_count": 3,
      "outputs": [
        {
          "output_type": "error",
          "ename": "NameError",
          "evalue": "name 'np' is not defined",
          "traceback": [
            "\u001b[0;31m---------------------------------------------------------------------------\u001b[0m",
            "\u001b[0;31mNameError\u001b[0m                                 Traceback (most recent call last)",
            "\u001b[0;32m<ipython-input-3-f88578c71f74>\u001b[0m in \u001b[0;36m<cell line: 2>\u001b[0;34m()\u001b[0m\n\u001b[1;32m      1\u001b[0m \u001b[0;31m# Manually constructing the 3x3 matrix\u001b[0m\u001b[0;34m\u001b[0m\u001b[0;34m\u001b[0m\u001b[0m\n\u001b[0;32m----> 2\u001b[0;31m matrix = np.array([\n\u001b[0m\u001b[1;32m      3\u001b[0m     \u001b[0;34m[\u001b[0m\u001b[0ms\u001b[0m\u001b[0;34m[\u001b[0m\u001b[0;36m0\u001b[0m\u001b[0;34m]\u001b[0m\u001b[0;34m,\u001b[0m \u001b[0ms\u001b[0m\u001b[0;34m[\u001b[0m\u001b[0;36m1\u001b[0m\u001b[0;34m]\u001b[0m\u001b[0;34m,\u001b[0m \u001b[0ms\u001b[0m\u001b[0;34m[\u001b[0m\u001b[0;36m2\u001b[0m\u001b[0;34m]\u001b[0m\u001b[0;34m]\u001b[0m\u001b[0;34m,\u001b[0m\u001b[0;34m\u001b[0m\u001b[0;34m\u001b[0m\u001b[0m\n\u001b[1;32m      4\u001b[0m     \u001b[0;34m[\u001b[0m\u001b[0ms\u001b[0m\u001b[0;34m[\u001b[0m\u001b[0;36m3\u001b[0m\u001b[0;34m]\u001b[0m\u001b[0;34m,\u001b[0m \u001b[0ms\u001b[0m\u001b[0;34m[\u001b[0m\u001b[0;36m4\u001b[0m\u001b[0;34m]\u001b[0m\u001b[0;34m,\u001b[0m \u001b[0ms\u001b[0m\u001b[0;34m[\u001b[0m\u001b[0;36m5\u001b[0m\u001b[0;34m]\u001b[0m\u001b[0;34m]\u001b[0m\u001b[0;34m,\u001b[0m\u001b[0;34m\u001b[0m\u001b[0;34m\u001b[0m\u001b[0m\n\u001b[1;32m      5\u001b[0m     \u001b[0;34m[\u001b[0m\u001b[0ms\u001b[0m\u001b[0;34m[\u001b[0m\u001b[0;36m6\u001b[0m\u001b[0;34m]\u001b[0m\u001b[0;34m,\u001b[0m \u001b[0ms\u001b[0m\u001b[0;34m[\u001b[0m\u001b[0;36m7\u001b[0m\u001b[0;34m]\u001b[0m\u001b[0;34m,\u001b[0m \u001b[0ms\u001b[0m\u001b[0;34m[\u001b[0m\u001b[0;36m8\u001b[0m\u001b[0;34m]\u001b[0m\u001b[0;34m]\u001b[0m\u001b[0;34m\u001b[0m\u001b[0;34m\u001b[0m\u001b[0m\n",
            "\u001b[0;31mNameError\u001b[0m: name 'np' is not defined"
          ]
        }
      ]
    },
    {
      "cell_type": "code",
      "source": [
        "%%writefile mean_var_std.py\n",
        "import numpy as np\n",
        "\n",
        "def calculate(s):\n",
        "    if len(s) != 9:\n",
        "        raise ValueError(\"List must contain nine numbers.\")\n",
        "\n",
        "    # Manually constructing the 3x3 matrix\n",
        "    matrix = np.array([\n",
        "        [s[0], s[1], s[2]],\n",
        "        [s[3], s[4], s[5]],\n",
        "        [s[6], s[7], s[8]]\n",
        "    ])\n",
        "\n",
        "    mean = [matrix.mean(axis=0).tolist(), matrix.mean(axis=1).tolist(), matrix.mean()]\n",
        "    variance = [matrix.var(axis=0).tolist(), matrix.var(axis=1).tolist(), matrix.var()]\n",
        "    std_dev = [matrix.std(axis=0).tolist(), matrix.std(axis=1).tolist(), matrix.std()]\n",
        "    max_val = [matrix.max(axis=0).tolist(), matrix.max(axis=1).tolist(), matrix.max()]\n",
        "    min_val = [matrix.min(axis=0).tolist(), matrix.min(axis=1).tolist(), matrix.min()]\n",
        "    sum_val = [matrix.sum(axis=0).tolist(), matrix.sum(axis=1).tolist(), matrix.sum()]\n",
        "\n",
        "    calculations = {\n",
        "        'mean': mean,\n",
        "        'variance': variance,\n",
        "        'standard deviation': std_dev,\n",
        "        'max': max_val,\n",
        "        'min': min_val,\n",
        "        'sum': sum_val\n",
        "    }\n",
        "\n",
        "    return calculations\n"
      ],
      "metadata": {
        "colab": {
          "base_uri": "https://localhost:8080/"
        },
        "id": "YhwFaO28IS4Z",
        "outputId": "9c163660-9267-4833-ec90-797cb04fecb8"
      },
      "execution_count": 4,
      "outputs": [
        {
          "output_type": "stream",
          "name": "stdout",
          "text": [
            "Overwriting mean_var_std.py\n"
          ]
        }
      ]
    },
    {
      "cell_type": "code",
      "source": [
        "from mean_var_std import calculate\n",
        "\n",
        "result = calculate([0, 1, 2, 3, 4, 5, 6, 7, 8])\n",
        "\n",
        "# Print the results line by line\n",
        "for key, value in result.items():\n",
        "    print(f'{key}: {value}')\n"
      ],
      "metadata": {
        "colab": {
          "base_uri": "https://localhost:8080/"
        },
        "id": "EId9jgOkKDee",
        "outputId": "11f10c7d-0bdb-4bb3-d451-49679fd84f3d"
      },
      "execution_count": 7,
      "outputs": [
        {
          "output_type": "stream",
          "name": "stdout",
          "text": [
            "mean: [[3.0, 4.0, 5.0], [1.0, 4.0, 7.0], 4.0]\n",
            "variance: [[6.0, 6.0, 6.0], [0.6666666666666666, 0.6666666666666666, 0.6666666666666666], 6.666666666666667]\n",
            "standard deviation: [[2.449489742783178, 2.449489742783178, 2.449489742783178], [0.816496580927726, 0.816496580927726, 0.816496580927726], 2.581988897471611]\n",
            "max: [[6, 7, 8], [2, 5, 8], 8]\n",
            "min: [[0, 1, 2], [0, 3, 6], 0]\n",
            "sum: [[9, 12, 15], [3, 12, 21], 36]\n"
          ]
        }
      ]
    },
    {
      "cell_type": "code",
      "source": [],
      "metadata": {
        "id": "i5CcuCNqKDiE"
      },
      "execution_count": null,
      "outputs": []
    }
  ]
}